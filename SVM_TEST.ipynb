{
 "cells": [
  {
   "cell_type": "code",
   "execution_count": 1,
   "metadata": {
    "collapsed": false
   },
   "outputs": [],
   "source": [
    "# Standard scientific Python imports\n",
    "import matplotlib.pyplot as plt\n",
    "from sklearn import svm, metrics"
   ]
  },
  {
   "cell_type": "code",
   "execution_count": 2,
   "metadata": {
    "collapsed": false
   },
   "outputs": [
    {
     "name": "stderr",
     "output_type": "stream",
     "text": [
      "C:\\Users\\Nishant\\AppData\\Roaming\\Python\\Python27\\site-packages\\theano\\tensor\\signal\\downsample.py:6: UserWarning: downsample module has been moved to the theano.tensor.signal.pool module.\n",
      "  \"downsample module has been moved to the theano.tensor.signal.pool module.\")\n"
     ]
    }
   ],
   "source": [
    "import os\n",
    "import numpy as np\n",
    "from pandas.io.parsers import read_csv\n",
    "from sklearn.utils import shuffle\n",
    "from lasagne.layers import InputLayer, DenseLayer, batch_norm\n",
    "import cPickle as pickle"
   ]
  },
  {
   "cell_type": "code",
   "execution_count": 3,
   "metadata": {
    "collapsed": false
   },
   "outputs": [],
   "source": [
    "TrainingSet = '.\\\\data\\\\fer2013.csv'\n",
    "#loading the data and splitting into training and test set\n",
    "df = read_csv(os.path.expanduser(TrainingSet))\n",
    "df['pixels'] = df['pixels'].apply(lambda im: np.fromstring(im, sep=' '))\n",
    "output_label = np.array(df['emotion'].values)\n",
    "features_image = np.vstack(df['pixels'].values)  # scale pixel values to [0, 1]\n",
    "features_image = features_image.astype(np.float32)\n",
    "x_train = features_image[:30000]\n",
    "y_train = output_label[:30000]\n",
    "x_test = features_image[30000:]\n",
    "y_test = output_label[30000:]\n",
    "y_train = y_train.astype(np.uint8)\n",
    "y_test = y_test.astype(np.uint8)"
   ]
  },
  {
   "cell_type": "code",
   "execution_count": 9,
   "metadata": {
    "collapsed": false
   },
   "outputs": [
    {
     "name": "stdout",
     "output_type": "stream",
     "text": [
      "[LibSVM]"
     ]
    },
    {
     "data": {
      "text/plain": [
       "SVC(C=1.0, cache_size=200, class_weight=None, coef0=0.0,\n",
       "  decision_function_shape=None, degree=3, gamma=0.001, kernel='rbf',\n",
       "  max_iter=-1, probability=False, random_state=None, shrinking=True,\n",
       "  tol=0.001, verbose=True)"
      ]
     },
     "execution_count": 9,
     "metadata": {},
     "output_type": "execute_result"
    }
   ],
   "source": [
    "# Create a classifier: a support vector classifier\n",
    "classifier = svm.SVC(gamma=0.001, verbose = True)\n",
    "classifier.fit(x_train, y_train)"
   ]
  },
  {
   "cell_type": "code",
   "execution_count": null,
   "metadata": {
    "collapsed": false
   },
   "outputs": [],
   "source": [
    "# Saving the model for future use\n",
    "import cPickle as pickle\n",
    "with open('.\\\\TrainedModels\\\\SVM.pickle', 'wb') as f:\n",
    "    pickle.dump(classifier, f, -1)"
   ]
  },
  {
   "cell_type": "code",
   "execution_count": 8,
   "metadata": {
    "collapsed": false
   },
   "outputs": [],
   "source": [
    "# loading preTrained Model\n",
    "f = open('.\\\\TrainedModels\\\\SVM.pickle', 'rb')\n",
    "classifier = pickle.load(f)\n",
    "f.close()"
   ]
  },
  {
   "cell_type": "code",
   "execution_count": 9,
   "metadata": {
    "collapsed": true
   },
   "outputs": [],
   "source": [
    "# use the classifier to predict the test data\n",
    "predicted = classifier.predict(x_test)"
   ]
  },
  {
   "cell_type": "code",
   "execution_count": 17,
   "metadata": {
    "collapsed": false
   },
   "outputs": [
    {
     "name": "stdout",
     "output_type": "stream",
     "text": [
      "Accuracy of the model: 0.320536775947\n"
     ]
    }
   ],
   "source": [
    "#print classifier.score(x_train, y_train)\n",
    "from __future__ import division\n",
    "y_diff = y_test - predicted\n",
    "len(y_diff[y_diff != 0])\n",
    "print 'Accuracy of the model: ' + str((len(y_diff) - len(y_diff[y_diff != 0]))/ len(y_diff))"
   ]
  },
  {
   "cell_type": "code",
   "execution_count": 12,
   "metadata": {
    "collapsed": false
   },
   "outputs": [
    {
     "name": "stdout",
     "output_type": "stream",
     "text": [
      "Classification report for classifier SVC(C=1.0, cache_size=200, class_weight=None, coef0=0.0,\n",
      "  decision_function_shape=None, degree=3, gamma=0.001, kernel='rbf',\n",
      "  max_iter=-1, probability=False, random_state=None, shrinking=True,\n",
      "  tol=0.001, verbose=True):\n",
      "             precision    recall  f1-score   support\n",
      "\n",
      "          0       0.96      0.07      0.13       780\n",
      "          1       1.00      0.29      0.45        90\n",
      "          2       0.88      0.09      0.16       828\n",
      "          3       0.27      1.00      0.42      1468\n",
      "          4       0.91      0.03      0.06      1028\n",
      "          5       0.98      0.29      0.45       673\n",
      "          6       0.97      0.04      0.07      1020\n",
      "\n",
      "avg / total       0.77      0.32      0.23      5887\n",
      "\n",
      "\n",
      "Confusion matrix:\n",
      "[[  55    0    3  721    1    0    0]\n",
      " [   0   26    0   64    0    0    0]\n",
      " [   1    0   75  749    1    1    1]\n",
      " [   0    0    0 1466    0    2    0]\n",
      " [   1    0    3  994   30    0    0]\n",
      " [   0    0    4  472    0  197    0]\n",
      " [   0    0    0  981    1    0   38]]\n"
     ]
    }
   ],
   "source": [
    "# visualize the performance of the classifier\n",
    "print(\"Classification report for classifier %s:\\n%s\\n\"\n",
    "      % (classifier, metrics.classification_report(y_test, predicted)))\n",
    "print(\"Confusion matrix:\\n%s\" % metrics.confusion_matrix(y_test, predicted))"
   ]
  }
 ],
 "metadata": {
  "kernelspec": {
   "display_name": "Python 2",
   "language": "python",
   "name": "python2"
  },
  "language_info": {
   "codemirror_mode": {
    "name": "ipython",
    "version": 2
   },
   "file_extension": ".py",
   "mimetype": "text/x-python",
   "name": "python",
   "nbconvert_exporter": "python",
   "pygments_lexer": "ipython2",
   "version": "2.7.13"
  }
 },
 "nbformat": 4,
 "nbformat_minor": 0
}
