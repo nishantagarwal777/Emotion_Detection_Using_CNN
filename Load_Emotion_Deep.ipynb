{
 "cells": [
  {
   "cell_type": "code",
   "execution_count": 2,
   "metadata": {
    "collapsed": false
   },
   "outputs": [
    {
     "name": "stderr",
     "output_type": "stream",
     "text": [
      "C:\\Users\\Nishant\\AppData\\Roaming\\Python\\Python27\\site-packages\\theano\\tensor\\signal\\downsample.py:6: UserWarning: downsample module has been moved to the theano.tensor.signal.pool module.\n",
      "  \"downsample module has been moved to the theano.tensor.signal.pool module.\")\n",
      "C:\\Users\\Nishant\\CourseraAnaconda2\\lib\\site-packages\\sklearn\\cross_validation.py:44: DeprecationWarning: This module was deprecated in version 0.18 in favor of the model_selection module into which all the refactored classes and functions are moved. Also note that the interface of the new CV iterators are different from that of this module. This module will be removed in 0.20.\n",
      "  \"This module will be removed in 0.20.\", DeprecationWarning)\n"
     ]
    }
   ],
   "source": [
    "import matplotlib\n",
    "import matplotlib.pyplot as plt\n",
    "import matplotlib.cm as cm\n",
    "from urllib import urlretrieve\n",
    "import cPickle as pickle\n",
    "import os\n",
    "import gzip\n",
    "import numpy as np\n",
    "import theano\n",
    "import lasagne\n",
    "from lasagne import layers\n",
    "from lasagne.updates import nesterov_momentum\n",
    "from nolearn.lasagne import NeuralNet\n",
    "from nolearn.lasagne import visualize\n",
    "from sklearn.metrics import classification_report\n",
    "from sklearn.metrics import confusion_matrix\n",
    "import os\n",
    "import numpy as np\n",
    "from pandas.io.parsers import read_csv\n",
    "from sklearn.utils import shuffle\n",
    "import cPickle as pickle"
   ]
  },
  {
   "cell_type": "code",
   "execution_count": 3,
   "metadata": {
    "collapsed": true
   },
   "outputs": [],
   "source": [
    "TrainingSet = '.\\\\data\\\\fer2013.csv'\n",
    "#loading the data and splitting into training and test set\n",
    "df = read_csv(os.path.expanduser(TrainingSet))\n",
    "df['pixels'] = df['pixels'].apply(lambda im: np.fromstring(im, sep=' '))\n",
    "output_label = np.array(df['emotion'].values)\n",
    "features_image = np.vstack(df['pixels'].values)  # scale pixel values to [0, 1]\n",
    "features_image = features_image.astype(np.float32)\n",
    "x_train = features_image[:30000]\n",
    "y_train = output_label[:30000]\n",
    "x_test = features_image[30000:]\n",
    "y_test = output_label[30000:]\n",
    "x_train = x_train.reshape((-1, 1, 48, 48))\n",
    "x_test = x_test.reshape((-1, 1, 48, 48))\n",
    "x_flipped = x_train[:, :, :, ::-1]\n",
    "x_train = np.concatenate((x_train, x_flipped), axis = 0)\n",
    "y_train = np.concatenate((y_train, y_train), axis = 0)\n",
    "y_train = y_train.astype(np.uint8)\n",
    "y_test = y_test.astype(np.uint8)"
   ]
  },
  {
   "cell_type": "code",
   "execution_count": null,
   "metadata": {
    "collapsed": true
   },
   "outputs": [],
   "source": []
  },
  {
   "cell_type": "code",
   "execution_count": 5,
   "metadata": {
    "collapsed": false
   },
   "outputs": [
    {
     "name": "stdout",
     "output_type": "stream",
     "text": [
      "# Neural Network with 3291143 learnable parameters\n",
      "\n",
      "## Layer information\n",
      "\n",
      "  #  name      size\n",
      "---  --------  ---------\n",
      "  0  input     1x48x48\n",
      "  1  conv2d1   64x46x46\n",
      "  2  maxpool1  64x23x23\n",
      "  3  dropout1  64x23x23\n",
      "  4  conv2d2   128x21x21\n",
      "  5  maxpool2  128x10x10\n",
      "  6  dropout2  128x10x10\n",
      "  7  conv2d3   512x8x8\n",
      "  8  maxpool3  512x4x4\n",
      "  9  dropout3  512x4x4\n",
      " 10  conv2d4   512x2x2\n",
      " 11  maxpool4  512x1x1\n",
      " 12  dropout4  512x1x1\n",
      " 13  dense1    256\n",
      " 14  dropout5  256\n",
      " 15  dense2    512\n",
      " 16  dropout6  512\n",
      " 17  output    7\n",
      "\n"
     ]
    },
    {
     "data": {
      "text/plain": [
       "[None,\n",
       " None,\n",
       " None,\n",
       " None,\n",
       " None,\n",
       " None,\n",
       " None,\n",
       " None,\n",
       " None,\n",
       " None,\n",
       " None,\n",
       " None,\n",
       " None,\n",
       " None]"
      ]
     },
     "execution_count": 5,
     "metadata": {},
     "output_type": "execute_result"
    }
   ],
   "source": [
    "##### DEEP NEURAL NETWORK #######\n",
    "\n",
    "f = gzip.open('.\\\\TrainedModels\\\\Facial_Expression_Deep_Aug_O.pickle.gz', 'rb')\n",
    "pvals = pickle.load(f)\n",
    "f.close()\n",
    "net2 = NeuralNet(\n",
    "    layers=[('input', layers.InputLayer),\n",
    "            ('conv2d1', layers.Conv2DLayer),\n",
    "            ('maxpool1', layers.MaxPool2DLayer),\n",
    "            ('dropout1', layers.DropoutLayer),\n",
    "            ('conv2d2', layers.Conv2DLayer),\n",
    "            ('maxpool2', layers.MaxPool2DLayer),\n",
    "            ('dropout2', layers.DropoutLayer),\n",
    "            ('conv2d3', layers.Conv2DLayer),\n",
    "            ('maxpool3', layers.MaxPool2DLayer),\n",
    "            ('dropout3', layers.DropoutLayer),\n",
    "            ('conv2d4', layers.Conv2DLayer),\n",
    "            ('maxpool4', layers.MaxPool2DLayer),\n",
    "            ('dropout4', layers.DropoutLayer),\n",
    "            ('dense1', layers.DenseLayer),\n",
    "            ('dropout5', layers.DropoutLayer),\n",
    "            ('dense2', layers.DenseLayer),\n",
    "            ('dropout6', layers.DropoutLayer),\n",
    "            ('output', layers.DenseLayer),\n",
    "            ],\n",
    "    # input layer\n",
    "    input_shape=(None, 1, 48, 48),\n",
    "    \n",
    "    # layer conv2d1\n",
    "    conv2d1_num_filters=64,\n",
    "    conv2d1_filter_size=(3, 3),\n",
    "    conv2d1_nonlinearity=lasagne.nonlinearities.rectify,\n",
    "    conv2d1_W=lasagne.init.GlorotUniform(),     \n",
    "    maxpool1_pool_size=(2, 2),    \n",
    "    dropout1_p=0.2,\n",
    "    \n",
    "    # layer conv2d2    \n",
    "    conv2d2_num_filters=128,\n",
    "    conv2d2_filter_size=(3, 3),\n",
    "    conv2d2_nonlinearity=lasagne.nonlinearities.rectify,   \n",
    "    maxpool2_pool_size=(2, 2),\n",
    "    dropout2_p=0.2,\n",
    "    \n",
    "     # layer conv2d3 \n",
    "    conv2d3_num_filters=512,\n",
    "    conv2d3_filter_size=(3, 3),\n",
    "    conv2d3_nonlinearity=lasagne.nonlinearities.rectify,   \n",
    "    maxpool3_pool_size=(2, 2),\n",
    "    dropout3_p=0.2,\n",
    "    \n",
    "    ## layer conv2d4\n",
    "    conv2d4_num_filters=512,\n",
    "    conv2d4_filter_size=(3, 3),\n",
    "    conv2d4_nonlinearity=lasagne.nonlinearities.rectify,   \n",
    "    maxpool4_pool_size=(2, 2),\n",
    "    dropout4_p=0.2,    \n",
    "    \n",
    "    # dense fully connected layer 1\n",
    "    dense1_num_units=256,\n",
    "    dense1_nonlinearity=lasagne.nonlinearities.rectify,   \n",
    "    dropout5_p=0.2,    \n",
    "    \n",
    "    # dense fully connected layer 2\n",
    "    dense2_num_units=512,\n",
    "    dense2_nonlinearity=lasagne.nonlinearities.rectify,   \n",
    "    dropout6_p=0.2,    \n",
    "    \n",
    "    # output Layer\n",
    "    output_nonlinearity=lasagne.nonlinearities.softmax,\n",
    "    output_num_units=7,\n",
    "    \n",
    "    # optimization method params\n",
    "    update=nesterov_momentum,\n",
    "    update_learning_rate=0.001,\n",
    "    update_momentum=0.9,\n",
    "    max_epochs=0,\n",
    "    verbose=1,\n",
    "    )\n",
    "\n",
    "net2.fit(x_train, y_train)\n",
    "[p.set_value(pval) for (p, pval) in zip(lasagne.layers.get_all_params(net2._output_layer), pvals)]"
   ]
  },
  {
   "cell_type": "code",
   "execution_count": null,
   "metadata": {
    "collapsed": true
   },
   "outputs": [],
   "source": []
  },
  {
   "cell_type": "code",
   "execution_count": 6,
   "metadata": {
    "collapsed": true
   },
   "outputs": [],
   "source": [
    "y_pred = net2.predict(x_test)\n",
    "cm = confusion_matrix(y_test, y_pred)\n",
    "plt.matshow(cm)\n",
    "plt.title('Confusion matrix')\n",
    "plt.colorbar()\n",
    "plt.ylabel('True label')\n",
    "plt.xlabel('Predicted label')\n",
    "plt.show()"
   ]
  },
  {
   "cell_type": "code",
   "execution_count": 28,
   "metadata": {
    "collapsed": false
   },
   "outputs": [
    {
     "name": "stdout",
     "output_type": "stream",
     "text": [
      "Accuracy of the model: 0.59351112621\n"
     ]
    }
   ],
   "source": [
    "from __future__ import division\n",
    "y_diff = y_pred - y_test\n",
    "print 'Accuracy of the model: ' + str((len(y_diff) - len(y_diff[y_diff != 0]))/ len(y_diff))"
   ]
  },
  {
   "cell_type": "code",
   "execution_count": 37,
   "metadata": {
    "collapsed": false
   },
   "outputs": [
    {
     "data": {
      "text/plain": [
       "array([[ 326,    9,   81,   83,  175,   17,   89],\n",
       "       [  27,   35,    7,    3,   11,    2,    5],\n",
       "       [  81,    3,  272,   58,  237,   73,  104],\n",
       "       [  26,    0,   27, 1232,   95,   25,   63],\n",
       "       [  83,    2,   81,   97,  578,   14,  173],\n",
       "       [  14,    1,   77,   46,   29,  476,   30],\n",
       "       [  43,    3,   48,  110,  231,   10,  575]])"
      ]
     },
     "execution_count": 37,
     "metadata": {},
     "output_type": "execute_result"
    }
   ],
   "source": [
    "cm"
   ]
  },
  {
   "cell_type": "code",
   "execution_count": 38,
   "metadata": {
    "collapsed": false
   },
   "outputs": [
    {
     "data": {
      "image/png": "[encoded data removed]",
      "text/plain": [
       "<matplotlib.figure.Figure at 0x1f9677f0>"
      ]
     },
     "metadata": {},
     "output_type": "display_data"
    },
    {
     "name": "stdout",
     "output_type": "stream",
     "text": [
      "Predicted Emotion: Neutral\n",
      "Actual Emotion:    Disgust\n"
     ]
    }
   ],
   "source": [
    "%matplotlib inline\n",
    "index = 1323\n",
    "plt.imshow(x_test[index][0], cmap = 'gray')\n",
    "plt.show()\n",
    "emotions = ['Angry', 'Disgust', 'Fear', 'Happy', 'Sad', 'Surprise', 'Neutral']\n",
    "print 'Predicted Emotion: ' + str(emotions[y_pred[index]])\n",
    "print 'Actual Emotion:    ' + str(emotions[y_test[index]])"
   ]
  },
  {
   "cell_type": "code",
   "execution_count": null,
   "metadata": {
    "collapsed": false
   },
   "outputs": [],
   "source": []
  }
 ],
 "metadata": {
  "kernelspec": {
   "display_name": "Python 2",
   "language": "python",
   "name": "python2"
  },
  "language_info": {
   "codemirror_mode": {
    "name": "ipython",
    "version": 2
   },
   "file_extension": ".py",
   "mimetype": "text/x-python",
   "name": "python",
   "nbconvert_exporter": "python",
   "pygments_lexer": "ipython2",
   "version": "2.7.13"
  }
 },
 "nbformat": 4,
 "nbformat_minor": 0
}
